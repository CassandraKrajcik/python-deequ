{
 "cells": [
  {
   "cell_type": "code",
   "execution_count": 1,
   "metadata": {},
   "outputs": [
    {
     "name": "stdout",
     "output_type": "stream",
     "text": [
      "Starting Spark application\n"
     ]
    },
    {
     "data": {
      "text/html": [
       "<table>\n",
       "<tr><th>ID</th><th>YARN Application ID</th><th>Kind</th><th>State</th><th>Spark UI</th><th>Driver log</th><th>Current session?</th></tr><tr><td>95</td><td>application_1595892420059_0096</td><td>pyspark</td><td>idle</td><td><a target=\"_blank\" href=\"http://ip-172-32-2-231.us-west-2.compute.internal:20888/proxy/application_1595892420059_0096/\">Link</a></td><td><a target=\"_blank\" href=\"http://ip-172-32-25-89.us-west-2.compute.internal:8042/node/containerlogs/container_1595892420059_0096_01_000001/livy\">Link</a></td><td>✔</td></tr></table>"
      ],
      "text/plain": [
       "<IPython.core.display.HTML object>"
      ]
     },
     "metadata": {},
     "output_type": "display_data"
    },
    {
     "data": {
      "application/vnd.jupyter.widget-view+json": {
       "model_id": "",
       "version_major": 2,
       "version_minor": 0
      },
      "text/plain": [
       "FloatProgress(value=0.0, bar_style='info', description='Progress:', layout=Layout(height='25px', width='50%'),…"
      ]
     },
     "metadata": {},
     "output_type": "display_data"
    },
    {
     "name": "stdout",
     "output_type": "stream",
     "text": [
      "SparkSession available as 'spark'.\n"
     ]
    },
    {
     "data": {
      "application/vnd.jupyter.widget-view+json": {
       "model_id": "",
       "version_major": 2,
       "version_minor": 0
      },
      "text/plain": [
       "FloatProgress(value=0.0, bar_style='info', description='Progress:', layout=Layout(height='25px', width='50%'),…"
      ]
     },
     "metadata": {},
     "output_type": "display_data"
    }
   ],
   "source": [
    "#get a job name and acccess parameters to have a job\n",
    "import sys\n",
    "from awsglue.utils import getResolvedOptions\n",
    "\n",
    "#access sparkcontext in order to get a glueContext\n",
    "from pyspark.context import SparkContext\n",
    "\n",
    "#Takes running glue context into a python script\n",
    "from awsglue.context import GlueContext\n",
    "\n",
    "glueContext = GlueContext(SparkContext.getOrCreate())\n",
    "session = glueContext.spark_session\n",
    "s3_write_path = \"s3://joanpydeequ/tmp/demo_anomaly_detection.json\""
   ]
  },
  {
   "cell_type": "code",
   "execution_count": 2,
   "metadata": {},
   "outputs": [
    {
     "data": {
      "application/vnd.jupyter.widget-view+json": {
       "model_id": "",
       "version_major": 2,
       "version_minor": 0
      },
      "text/plain": [
       "FloatProgress(value=0.0, bar_style='info', description='Progress:', layout=Layout(height='25px', width='50%'),…"
      ]
     },
     "metadata": {},
     "output_type": "display_data"
    }
   ],
   "source": [
    "# Extract \n",
    "previous_dyf = glueContext.create_dynamic_frame.from_catalog(database=\"anomaly_detection\", table_name=\"prevdata_csv\")\n",
    "curr_dyf = glueContext.create_dynamic_frame.from_catalog(database=\"anomaly_detection\", table_name=\"currdata_csv\")\n",
    "\n",
    "#Turn dynamic frame to dataframe to use w/ PyDeequ\n",
    "previous_dataframe = previous_dyf.toDF()\n",
    "curr_dataframe = curr_dyf.toDF()"
   ]
  },
  {
   "cell_type": "code",
   "execution_count": 3,
   "metadata": {},
   "outputs": [
    {
     "data": {
      "application/vnd.jupyter.widget-view+json": {
       "model_id": "",
       "version_major": 2,
       "version_minor": 0
      },
      "text/plain": [
       "FloatProgress(value=0.0, bar_style='info', description='Progress:', layout=Layout(height='25px', width='50%'),…"
      ]
     },
     "metadata": {},
     "output_type": "display_data"
    }
   ],
   "source": [
    "import pydeequ\n",
    "from pydeequ.repository import *\n",
    "from pydeequ.verification import *\n",
    "\n",
    "metricsRepository = FileSystemMetricsRepository(session, s3_write_path)\n",
    "\n",
    "key_tags = {'tag': 'yesterday'}\n",
    "resultKey_yesterday = ResultKey(session, ResultKey.current_milli_time(), key_tags)\n",
    "\n",
    "prev_Result = VerificationSuite(session).onData(previous_dataframe)\\\n",
    "    .useRepository(metricsRepository) \\\n",
    "    .saveOrAppendResult(resultKey_yesterday) \\\n",
    "    .addAnomalyCheck(RelativeRateOfChangeStrategy(maxRateIncrease=2.0), Size())\\\n",
    "    .run()\n",
    "\n"
   ]
  },
  {
   "cell_type": "code",
   "execution_count": 4,
   "metadata": {
    "scrolled": true
   },
   "outputs": [
    {
     "data": {
      "application/vnd.jupyter.widget-view+json": {
       "model_id": "",
       "version_major": 2,
       "version_minor": 0
      },
      "text/plain": [
       "FloatProgress(value=0.0, bar_style='info', description='Progress:', layout=Layout(height='25px', width='50%'),…"
      ]
     },
     "metadata": {},
     "output_type": "display_data"
    },
    {
     "name": "stdout",
     "output_type": "stream",
     "text": [
      "+-------+--------+----+-----+-------------+---------+\n",
      "| entity|instance|name|value| dataset_date|      tag|\n",
      "+-------+--------+----+-----+-------------+---------+\n",
      "|Dataset|       *|Size|  2.0|1597342948742|yesterday|\n",
      "+-------+--------+----+-----+-------------+---------+"
     ]
    }
   ],
   "source": [
    "metrics_dataframe = metricsRepository.load().forAnalyzers([Size()]).getSuccessMetricsAsDataFrame()\n",
    "\n",
    "metrics_dataframe.show()"
   ]
  },
  {
   "cell_type": "code",
   "execution_count": 5,
   "metadata": {},
   "outputs": [
    {
     "data": {
      "application/vnd.jupyter.widget-view+json": {
       "model_id": "",
       "version_major": 2,
       "version_minor": 0
      },
      "text/plain": [
       "FloatProgress(value=0.0, bar_style='info', description='Progress:', layout=Layout(height='25px', width='50%'),…"
      ]
     },
     "metadata": {},
     "output_type": "display_data"
    }
   ],
   "source": [
    "key_tags = {'tag': 'today'}\n",
    "resultKey_today = ResultKey(session, ResultKey.current_milli_time(), key_tags)\n",
    "\n",
    "currResult = VerificationSuite(session).onData(curr_dataframe) \\\n",
    "    .useRepository(metricsRepository) \\\n",
    "    .saveOrAppendResult(resultKey_today) \\\n",
    "    .addAnomalyCheck(RelativeRateOfChangeStrategy(maxRateIncrease=2.0), Size()) \\\n",
    "    .run()"
   ]
  },
  {
   "cell_type": "code",
   "execution_count": 6,
   "metadata": {},
   "outputs": [
    {
     "data": {
      "application/vnd.jupyter.widget-view+json": {
       "model_id": "",
       "version_major": 2,
       "version_minor": 0
      },
      "text/plain": [
       "FloatProgress(value=0.0, bar_style='info', description='Progress:', layout=Layout(height='25px', width='50%'),…"
      ]
     },
     "metadata": {},
     "output_type": "display_data"
    },
    {
     "name": "stdout",
     "output_type": "stream",
     "text": [
      "Anomaly for size has been detected\n",
      "[Row(constraint='AnomalyConstraint(Size(None))')]\n",
      "+-------+--------+----+-----+-------------+---------+\n",
      "| entity|instance|name|value| dataset_date|      tag|\n",
      "+-------+--------+----+-----+-------------+---------+\n",
      "|Dataset|       *|Size|  2.0|1597342948742|yesterday|\n",
      "|Dataset|       *|Size|  5.0|1597342951965|    today|\n",
      "+-------+--------+----+-----+-------------+---------+"
     ]
    }
   ],
   "source": [
    "df = VerificationResult.checkResultsAsDataFrame(session, currResult)\n",
    "\n",
    "if (currResult.status != \"Success\"):\n",
    "    print(\"Anomaly for size has been detected\")\n",
    "    print(df.select('constraint').collect())\n",
    "    metrics_dataframe = metricsRepository.load().forAnalyzers([Size()]).getSuccessMetricsAsDataFrame()\n",
    "    metrics_dataframe.show()\n",
    "    \n",
    "    "
   ]
  }
 ],
 "metadata": {
  "kernelspec": {
   "display_name": "Sparkmagic (PySpark)",
   "language": "",
   "name": "pysparkkernel"
  },
  "language_info": {
   "codemirror_mode": {
    "name": "python",
    "version": 3
   },
   "mimetype": "text/x-python",
   "name": "pyspark",
   "pygments_lexer": "python3"
  }
 },
 "nbformat": 4,
 "nbformat_minor": 4
}
