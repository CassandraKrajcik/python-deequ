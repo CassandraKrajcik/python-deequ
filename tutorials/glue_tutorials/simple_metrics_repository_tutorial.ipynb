{
 "cells": [
  {
   "cell_type": "markdown",
   "metadata": {},
   "source": [
    "# Storing Computed Metrics in S3 with AWS Glue\n",
    "\n",
    "PyDeequ allows us to persist the metrics we computed on dataframes in a so-called MetricsRepository using AWS Glue. In the following example, we showcase how to store metrics in S3 and query them later on."
   ]
  },
  {
   "cell_type": "code",
   "execution_count": 1,
   "metadata": {},
   "outputs": [
    {
     "name": "stdout",
     "output_type": "stream",
     "text": [
      "Starting Spark application\n"
     ]
    },
    {
     "data": {
      "text/html": [
       "<table>\n",
       "<tr><th>ID</th><th>YARN Application ID</th><th>Kind</th><th>State</th><th>Spark UI</th><th>Driver log</th><th>Current session?</th></tr><tr><td>99</td><td>application_1595892420059_0100</td><td>pyspark</td><td>idle</td><td><a target=\"_blank\" href=\"http://ip-172-32-2-231.us-west-2.compute.internal:20888/proxy/application_1595892420059_0100/\">Link</a></td><td><a target=\"_blank\" href=\"http://ip-172-32-17-239.us-west-2.compute.internal:8042/node/containerlogs/container_1595892420059_0100_01_000001/livy\">Link</a></td><td>✔</td></tr></table>"
      ],
      "text/plain": [
       "<IPython.core.display.HTML object>"
      ]
     },
     "metadata": {},
     "output_type": "display_data"
    },
    {
     "data": {
      "application/vnd.jupyter.widget-view+json": {
       "model_id": "",
       "version_major": 2,
       "version_minor": 0
      },
      "text/plain": [
       "FloatProgress(value=0.0, bar_style='info', description='Progress:', layout=Layout(height='25px', width='50%'),…"
      ]
     },
     "metadata": {},
     "output_type": "display_data"
    },
    {
     "name": "stdout",
     "output_type": "stream",
     "text": [
      "SparkSession available as 'spark'.\n"
     ]
    },
    {
     "data": {
      "application/vnd.jupyter.widget-view+json": {
       "model_id": "",
       "version_major": 2,
       "version_minor": 0
      },
      "text/plain": [
       "FloatProgress(value=0.0, bar_style='info', description='Progress:', layout=Layout(height='25px', width='50%'),…"
      ]
     },
     "metadata": {},
     "output_type": "display_data"
    }
   ],
   "source": [
    "import sys\n",
    "from awsglue.utils import getResolvedOptions\n",
    "\n",
    "from awsglue.context import GlueContext\n",
    "from pyspark.context import SparkContext\n",
    "\n",
    "glueContext = GlueContext(SparkContext.getOrCreate())\n",
    "session = glueContext.spark_session\n"
   ]
  },
  {
   "cell_type": "markdown",
   "metadata": {},
   "source": [
    "### We will be using the Amazon Product Reviews dataset \n",
    "Specifically the Electronics dataset."
   ]
  },
  {
   "cell_type": "code",
   "execution_count": 2,
   "metadata": {},
   "outputs": [
    {
     "data": {
      "application/vnd.jupyter.widget-view+json": {
       "model_id": "",
       "version_major": 2,
       "version_minor": 0
      },
      "text/plain": [
       "FloatProgress(value=0.0, bar_style='info', description='Progress:', layout=Layout(height='25px', width='50%'),…"
      ]
     },
     "metadata": {},
     "output_type": "display_data"
    },
    {
     "name": "stdout",
     "output_type": "stream",
     "text": [
      "root\n",
      " |-- marketplace: string (nullable = true)\n",
      " |-- customer_id: string (nullable = true)\n",
      " |-- review_id: string (nullable = true)\n",
      " |-- product_id: string (nullable = true)\n",
      " |-- product_parent: string (nullable = true)\n",
      " |-- product_title: string (nullable = true)\n",
      " |-- star_rating: integer (nullable = true)\n",
      " |-- helpful_votes: integer (nullable = true)\n",
      " |-- total_votes: integer (nullable = true)\n",
      " |-- vine: string (nullable = true)\n",
      " |-- verified_purchase: string (nullable = true)\n",
      " |-- review_headline: string (nullable = true)\n",
      " |-- review_body: string (nullable = true)\n",
      " |-- review_date: date (nullable = true)\n",
      " |-- year: integer (nullable = true)\n",
      "\n",
      "None"
     ]
    }
   ],
   "source": [
    "df_electronics = session.read.parquet(\"s3a://amazon-reviews-pds/parquet/product_category=Electronics/\")\n",
    "\n",
    "print(df_electronics.printSchema())"
   ]
  },
  {
   "cell_type": "markdown",
   "metadata": {},
   "source": [
    "### Initialize Metrics Repository\n",
    "\n",
    "We will be demoing with the `FileSystemMetricsRepository` class, but you can optionally use `InMemoryMetricsRepository` the exact same way without creating a `metrics_file` like so: `repository = InMemoryMetricsRepository(session)`. \n",
    "\n",
    "**Metrics Repository allows us to store the metrics in json format on S3.**"
   ]
  },
  {
   "cell_type": "code",
   "execution_count": 3,
   "metadata": {},
   "outputs": [
    {
     "data": {
      "application/vnd.jupyter.widget-view+json": {
       "model_id": "",
       "version_major": 2,
       "version_minor": 0
      },
      "text/plain": [
       "FloatProgress(value=0.0, bar_style='info', description='Progress:', layout=Layout(height='25px', width='50%'),…"
      ]
     },
     "metadata": {},
     "output_type": "display_data"
    }
   ],
   "source": [
    "s3_write_path = \"s3://joanpydeequ/tmp/simple_metrics_tutorial.json\"\n",
    "\n",
    "import pydeequ\n",
    "from pydeequ.repository import *\n",
    "\n",
    "repository = FileSystemMetricsRepository(session, s3_write_path)"
   ]
  },
  {
   "cell_type": "markdown",
   "metadata": {},
   "source": [
    "Each set of metrics that we computed needs be indexed by a so-called `ResultKey`, which contains a timestamp and supports arbitrary tags in the form of key-value pairs. Let's setup one for this example:"
   ]
  },
  {
   "cell_type": "code",
   "execution_count": 4,
   "metadata": {},
   "outputs": [
    {
     "data": {
      "application/vnd.jupyter.widget-view+json": {
       "model_id": "",
       "version_major": 2,
       "version_minor": 0
      },
      "text/plain": [
       "FloatProgress(value=0.0, bar_style='info', description='Progress:', layout=Layout(height='25px', width='50%'),…"
      ]
     },
     "metadata": {},
     "output_type": "display_data"
    }
   ],
   "source": [
    "key_tags = {'tag': 'general_electronics'}\n",
    "resultKey = ResultKey(session, ResultKey.current_milli_time(), key_tags)"
   ]
  },
  {
   "cell_type": "markdown",
   "metadata": {},
   "source": [
    "This tutorial builds upon the Analyzer and Metrics Repository Tutorial. We make Deequ write and store our metrics in S3 by adding `useRepository` and  the `saveOrAppendResult` method."
   ]
  },
  {
   "cell_type": "code",
   "execution_count": 5,
   "metadata": {},
   "outputs": [
    {
     "data": {
      "application/vnd.jupyter.widget-view+json": {
       "model_id": "",
       "version_major": 2,
       "version_minor": 0
      },
      "text/plain": [
       "FloatProgress(value=0.0, bar_style='info', description='Progress:', layout=Layout(height='25px', width='50%'),…"
      ]
     },
     "metadata": {},
     "output_type": "display_data"
    },
    {
     "name": "stdout",
     "output_type": "stream",
     "text": [
      "+-----------+--------------------+-------------------+------------------+\n",
      "|     entity|            instance|               name|             value|\n",
      "+-----------+--------------------+-------------------+------------------+\n",
      "|     Column|           review_id|       Completeness|               1.0|\n",
      "|     Column|           review_id|ApproxCountDistinct|         3010972.0|\n",
      "|     Column|         customer_id|       Distinctness|0.6951804233214501|\n",
      "|Mutlicolumn|helpful_votes,tot...|        Correlation|0.9936463809903863|\n",
      "|    Dataset|                   *|               Size|         3120938.0|\n",
      "|     Column|         star_rating|               Mean| 4.036143941340712|\n",
      "|     Column|         star_rating| ApproxQuantile-0.5|               5.0|\n",
      "+-----------+--------------------+-------------------+------------------+"
     ]
    }
   ],
   "source": [
    "from pydeequ.analyzers import *\n",
    "\n",
    "analysisResult = AnalysisRunner(session) \\\n",
    "                    .onData(df_electronics) \\\n",
    "                    .addAnalyzer(Size()) \\\n",
    "                    .addAnalyzer(Completeness(\"review_id\")) \\\n",
    "                    .addAnalyzer(ApproxCountDistinct(\"review_id\")) \\\n",
    "                    .addAnalyzer(Mean(\"star_rating\")) \\\n",
    "                    .addAnalyzer(Distinctness(\"customer_id\")) \\\n",
    "                    .addAnalyzer(Correlation(\"helpful_votes\",\"total_votes\")) \\\n",
    "                    .addAnalyzer(ApproxQuantile(\"star_rating\",.5)) \\\n",
    "                    .useRepository(repository) \\\n",
    "                    .saveOrAppendResult(resultKey) \\\n",
    "                    .run()\n",
    "                    \n",
    "analysisResult_df = AnalyzerContext.successMetricsAsDataFrame(session, analysisResult)\n",
    "analysisResult_df.show()"
   ]
  },
  {
   "cell_type": "markdown",
   "metadata": {},
   "source": [
    "### We can now load it back from the Metrics Repository \n",
    "\n",
    "PyDeequ now executes the verification as usual and additionally stores the metrics under our specified key. Afterwards, we can retrieve the metrics from the repository in different ways. We can for example directly load the metric for a particular analyzer stored under our result key as follows:"
   ]
  },
  {
   "cell_type": "code",
   "execution_count": 6,
   "metadata": {},
   "outputs": [
    {
     "data": {
      "application/vnd.jupyter.widget-view+json": {
       "model_id": "",
       "version_major": 2,
       "version_minor": 0
      },
      "text/plain": [
       "FloatProgress(value=0.0, bar_style='info', description='Progress:', layout=Layout(height='25px', width='50%'),…"
      ]
     },
     "metadata": {},
     "output_type": "display_data"
    },
    {
     "name": "stdout",
     "output_type": "stream",
     "text": [
      "+-----------+--------------------+-------------------+------------------+-------------+-------------------+\n",
      "|     entity|            instance|               name|             value| dataset_date|                tag|\n",
      "+-----------+--------------------+-------------------+------------------+-------------+-------------------+\n",
      "|     Column|           review_id|       Completeness|               1.0|1597344080757|general_electronics|\n",
      "|     Column|           review_id|ApproxCountDistinct|         3010972.0|1597344080757|general_electronics|\n",
      "|     Column|         customer_id|       Distinctness|0.6951804233214501|1597344080757|general_electronics|\n",
      "|Mutlicolumn|helpful_votes,tot...|        Correlation|0.9936463809903863|1597344080757|general_electronics|\n",
      "|    Dataset|                   *|               Size|         3120938.0|1597344080757|general_electronics|\n",
      "|     Column|         star_rating|               Mean| 4.036143941340712|1597344080757|general_electronics|\n",
      "|     Column|         star_rating| ApproxQuantile-0.5|               5.0|1597344080757|general_electronics|\n",
      "+-----------+--------------------+-------------------+------------------+-------------+-------------------+"
     ]
    }
   ],
   "source": [
    "analysisResult_metRep = repository.load() \\\n",
    "                            .before(ResultKey.current_milli_time()) \\\n",
    "                            .getSuccessMetricsAsDataFrame()\n",
    "\n",
    "analysisResult_metRep.show()"
   ]
  },
  {
   "cell_type": "markdown",
   "metadata": {},
   "source": [
    "## Great, we got our results!\n",
    "\n",
    "Let us take a closer look at the data distribution in the star rating column. Use the `filter` method to partition our table into two. One table will contain values below the average star rating [1,3], the second table will contain the higher rated scores."
   ]
  },
  {
   "cell_type": "code",
   "execution_count": 7,
   "metadata": {},
   "outputs": [
    {
     "data": {
      "application/vnd.jupyter.widget-view+json": {
       "model_id": "",
       "version_major": 2,
       "version_minor": 0
      },
      "text/plain": [
       "FloatProgress(value=0.0, bar_style='info', description='Progress:', layout=Layout(height='25px', width='50%'),…"
      ]
     },
     "metadata": {},
     "output_type": "display_data"
    }
   ],
   "source": [
    "lower_rating = df_electronics.filter(\"star_rating < 4\")\n",
    "higher_rating = df_electronics.filter(\"star_rating >= 4\")\n"
   ]
  },
  {
   "cell_type": "markdown",
   "metadata": {},
   "source": [
    "**We can find the correlation between helpful and total votes, specifically between higher and lower ratings.**"
   ]
  },
  {
   "cell_type": "code",
   "execution_count": 8,
   "metadata": {},
   "outputs": [
    {
     "data": {
      "application/vnd.jupyter.widget-view+json": {
       "model_id": "",
       "version_major": 2,
       "version_minor": 0
      },
      "text/plain": [
       "FloatProgress(value=0.0, bar_style='info', description='Progress:', layout=Layout(height='25px', width='50%'),…"
      ]
     },
     "metadata": {},
     "output_type": "display_data"
    }
   ],
   "source": [
    "key_tags_2 = {'tag': 'star_rating[1-3]'}\n",
    "resultKey = ResultKey(session, ResultKey.current_milli_time(), key_tags_2)"
   ]
  },
  {
   "cell_type": "code",
   "execution_count": 9,
   "metadata": {},
   "outputs": [
    {
     "data": {
      "application/vnd.jupyter.widget-view+json": {
       "model_id": "",
       "version_major": 2,
       "version_minor": 0
      },
      "text/plain": [
       "FloatProgress(value=0.0, bar_style='info', description='Progress:', layout=Layout(height='25px', width='50%'),…"
      ]
     },
     "metadata": {},
     "output_type": "display_data"
    },
    {
     "name": "stdout",
     "output_type": "stream",
     "text": [
      "+-----------+--------------------+-------------------+------------------+\n",
      "|     entity|            instance|               name|             value|\n",
      "+-----------+--------------------+-------------------+------------------+\n",
      "|     Column|           review_id|ApproxCountDistinct|          779797.0|\n",
      "|     Column|               range|         Compliance|               1.0|\n",
      "|Mutlicolumn|helpful_votes,tot...|        Correlation|0.9870764816013522|\n",
      "|    Dataset|                   *|               Size|          782085.0|\n",
      "|     Column|         star_rating|               Mean| 1.846948861057302|\n",
      "+-----------+--------------------+-------------------+------------------+"
     ]
    }
   ],
   "source": [
    "analysisResult = AnalysisRunner(session) \\\n",
    "                    .onData(lower_rating) \\\n",
    "                    .addAnalyzer(Size()) \\\n",
    "                    .addAnalyzer(ApproxCountDistinct(\"review_id\")) \\\n",
    "                    .addAnalyzer(Mean(\"star_rating\")) \\\n",
    "                    .addAnalyzer(Correlation(\"helpful_votes\",\"total_votes\")) \\\n",
    "                    .addAnalyzer(Compliance('range','star_rating > 0 AND star_rating < 4')) \\\n",
    "                    .useRepository(repository) \\\n",
    "                    .saveOrAppendResult(resultKey) \\\n",
    "                    .run()\n",
    "                    \n",
    "analysisResult_df = AnalyzerContext.successMetricsAsDataFrame(session, analysisResult)\n",
    "analysisResult_df.show()"
   ]
  },
  {
   "cell_type": "code",
   "execution_count": 10,
   "metadata": {},
   "outputs": [
    {
     "data": {
      "application/vnd.jupyter.widget-view+json": {
       "model_id": "",
       "version_major": 2,
       "version_minor": 0
      },
      "text/plain": [
       "FloatProgress(value=0.0, bar_style='info', description='Progress:', layout=Layout(height='25px', width='50%'),…"
      ]
     },
     "metadata": {},
     "output_type": "display_data"
    }
   ],
   "source": [
    "key_tags_3 = {'tag': 'star_rating[4-5]'}\n",
    "resultKey = ResultKey(session, ResultKey.current_milli_time(), key_tags_3)"
   ]
  },
  {
   "cell_type": "code",
   "execution_count": 11,
   "metadata": {},
   "outputs": [
    {
     "data": {
      "application/vnd.jupyter.widget-view+json": {
       "model_id": "",
       "version_major": 2,
       "version_minor": 0
      },
      "text/plain": [
       "FloatProgress(value=0.0, bar_style='info', description='Progress:', layout=Layout(height='25px', width='50%'),…"
      ]
     },
     "metadata": {},
     "output_type": "display_data"
    },
    {
     "name": "stdout",
     "output_type": "stream",
     "text": [
      "+-----------+--------------------+-------------------+------------------+\n",
      "|     entity|            instance|               name|             value|\n",
      "+-----------+--------------------+-------------------+------------------+\n",
      "|     Column|           review_id|ApproxCountDistinct|         2348579.0|\n",
      "|Mutlicolumn|helpful_votes,tot...|        Correlation|0.9976826161406824|\n",
      "|    Dataset|                   *|               Size|         2338853.0|\n",
      "|     Column|         star_rating|               Mean| 4.768185089015855|\n",
      "|     Column|               range|         Compliance|               1.0|\n",
      "+-----------+--------------------+-------------------+------------------+"
     ]
    }
   ],
   "source": [
    "analysisResult = AnalysisRunner(session) \\\n",
    "                    .onData(higher_rating) \\\n",
    "                    .addAnalyzer(Size()) \\\n",
    "                    .addAnalyzer(ApproxCountDistinct(\"review_id\")) \\\n",
    "                    .addAnalyzer(Mean(\"star_rating\")) \\\n",
    "                    .addAnalyzer(Correlation(\"helpful_votes\",\"total_votes\")) \\\n",
    "                    .addAnalyzer(Compliance('range','star_rating >=4')) \\\n",
    "                    .useRepository(repository) \\\n",
    "                    .saveOrAppendResult(resultKey) \\\n",
    "                    .run()\n",
    "                    \n",
    "analysisResult_df = AnalyzerContext.successMetricsAsDataFrame(session, analysisResult)\n",
    "analysisResult_df.show()"
   ]
  },
  {
   "cell_type": "markdown",
   "metadata": {},
   "source": [
    "### Now we should see three different tags when we load it back from Metrics Repository"
   ]
  },
  {
   "cell_type": "code",
   "execution_count": 12,
   "metadata": {},
   "outputs": [
    {
     "data": {
      "application/vnd.jupyter.widget-view+json": {
       "model_id": "",
       "version_major": 2,
       "version_minor": 0
      },
      "text/plain": [
       "FloatProgress(value=0.0, bar_style='info', description='Progress:', layout=Layout(height='25px', width='50%'),…"
      ]
     },
     "metadata": {},
     "output_type": "display_data"
    },
    {
     "name": "stdout",
     "output_type": "stream",
     "text": [
      "+-----------+--------------------+-------------------+------------------+-------------+-------------------+\n",
      "|     entity|            instance|               name|             value| dataset_date|                tag|\n",
      "+-----------+--------------------+-------------------+------------------+-------------+-------------------+\n",
      "|     Column|           review_id|       Completeness|               1.0|1597344080757|general_electronics|\n",
      "|     Column|           review_id|ApproxCountDistinct|         3010972.0|1597344080757|general_electronics|\n",
      "|     Column|         customer_id|       Distinctness|0.6951804233214501|1597344080757|general_electronics|\n",
      "|Mutlicolumn|helpful_votes,tot...|        Correlation|0.9936463809903863|1597344080757|general_electronics|\n",
      "|    Dataset|                   *|               Size|         3120938.0|1597344080757|general_electronics|\n",
      "|     Column|         star_rating|               Mean| 4.036143941340712|1597344080757|general_electronics|\n",
      "|     Column|         star_rating| ApproxQuantile-0.5|               5.0|1597344080757|general_electronics|\n",
      "|     Column|           review_id|ApproxCountDistinct|          779797.0|1597344126666|   star_rating[1-3]|\n",
      "|     Column|               range|         Compliance|               1.0|1597344126666|   star_rating[1-3]|\n",
      "|Mutlicolumn|helpful_votes,tot...|        Correlation|0.9870764816013522|1597344126666|   star_rating[1-3]|\n",
      "|    Dataset|                   *|               Size|          782085.0|1597344126666|   star_rating[1-3]|\n",
      "|     Column|         star_rating|               Mean| 1.846948861057302|1597344126666|   star_rating[1-3]|\n",
      "|     Column|           review_id|ApproxCountDistinct|         2348579.0|1597344135188|   star_rating[4-5]|\n",
      "|Mutlicolumn|helpful_votes,tot...|        Correlation|0.9976826161406824|1597344135188|   star_rating[4-5]|\n",
      "|    Dataset|                   *|               Size|         2338853.0|1597344135188|   star_rating[4-5]|\n",
      "|     Column|         star_rating|               Mean| 4.768185089015855|1597344135188|   star_rating[4-5]|\n",
      "|     Column|               range|         Compliance|               1.0|1597344135188|   star_rating[4-5]|\n",
      "+-----------+--------------------+-------------------+------------------+-------------+-------------------+"
     ]
    }
   ],
   "source": [
    "analysisResult_metRep = repository.load() \\\n",
    "                            .before(ResultKey.current_milli_time()) \\\n",
    "                            .getSuccessMetricsAsDataFrame()\n",
    "\n",
    "analysisResult_metRep.show()"
   ]
  },
  {
   "cell_type": "markdown",
   "metadata": {},
   "source": [
    "There seems to be a slightly higher correlation between helpful and total votes with higher ratings than the lower rated instances!\n",
    "\n",
    "By leveraging the metrics repository file, all the analysis on the data is now saved within your S3 bucket for future reference!"
   ]
  }
 ],
 "metadata": {
  "kernelspec": {
   "display_name": "Sparkmagic (PySpark)",
   "language": "",
   "name": "pysparkkernel"
  },
  "language_info": {
   "codemirror_mode": {
    "name": "python",
    "version": 3
   },
   "mimetype": "text/x-python",
   "name": "pyspark",
   "pygments_lexer": "python3"
  }
 },
 "nbformat": 4,
 "nbformat_minor": 4
}
