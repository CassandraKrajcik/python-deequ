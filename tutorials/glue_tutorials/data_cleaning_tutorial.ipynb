{
 "cells": [
  {
   "cell_type": "markdown",
   "metadata": {},
   "source": [
    "### Using Glue and PyDeequ to clean data \n",
    "AWS Glue automates the time consuming steps of data preparation for analytics. It lessens the effort to build, maintain, and produce an ETL job. Leveraging PyDeequ with Glue allows you to apply quantitative information to  anomalous data before transformation. \n",
    "\n",
    "**This tutorial builds upon the [Data Cleaning with AWS Glue](https://github.com/aws-samples/aws-glue-samples/blob/master/examples/data_cleaning_and_lambda.md) tutorial, and uses PyDeequ to analyze the data.** "
   ]
  },
  {
   "cell_type": "code",
   "execution_count": 3,
   "metadata": {},
   "outputs": [
    {
     "data": {
      "application/vnd.jupyter.widget-view+json": {
       "model_id": "",
       "version_major": 2,
       "version_minor": 0
      },
      "text/plain": [
       "FloatProgress(value=0.0, bar_style='info', description='Progress:', layout=Layout(height='25px', width='50%'),…"
      ]
     },
     "metadata": {},
     "output_type": "display_data"
    }
   ],
   "source": [
    "import sys\n",
    "from awsglue.utils import getResolvedOptions\n",
    "\n",
    "from awsglue.context import GlueContext\n",
    "from pyspark.context import SparkContext\n",
    "\n",
    "glueContext = GlueContext(SparkContext.getOrCreate())\n",
    "session = glueContext.spark_session\n"
   ]
  },
  {
   "cell_type": "markdown",
   "metadata": {},
   "source": [
    "## Extract - Load the dataset"
   ]
  },
  {
   "cell_type": "markdown",
   "metadata": {},
   "source": [
    "\n",
    "We will be using a modified version of the Medicare-Provider payment data downloaded from two Data.CMS.gov sites: Inpatient Prospective Payment System Provider Summary for the Top 100 Diagnosis-Related Groups - FY2011, and Inpatient Charge Data FY 2011.\n",
    "\n",
    "First let us look at the schema using a dataframe."
   ]
  },
  {
   "cell_type": "code",
   "execution_count": 4,
   "metadata": {},
   "outputs": [
    {
     "data": {
      "application/vnd.jupyter.widget-view+json": {
       "model_id": "",
       "version_major": 2,
       "version_minor": 0
      },
      "text/plain": [
       "FloatProgress(value=0.0, bar_style='info', description='Progress:', layout=Layout(height='25px', width='50%'),…"
      ]
     },
     "metadata": {},
     "output_type": "display_data"
    },
    {
     "name": "stdout",
     "output_type": "stream",
     "text": [
      "root\n",
      " |-- DRG Definition: string (nullable = true)\n",
      " |-- Provider Id: string (nullable = true)\n",
      " |-- Provider Name: string (nullable = true)\n",
      " |-- Provider Street Address: string (nullable = true)\n",
      " |-- Provider City: string (nullable = true)\n",
      " |-- Provider State: string (nullable = true)\n",
      " |-- Provider Zip Code: integer (nullable = true)\n",
      " |-- Hospital Referral Region Description: string (nullable = true)\n",
      " |--  Total Discharges : integer (nullable = true)\n",
      " |--  Average Covered Charges : string (nullable = true)\n",
      " |--  Average Total Payments : string (nullable = true)\n",
      " |-- Average Medicare Payments: string (nullable = true)"
     ]
    }
   ],
   "source": [
    "medicare = spark.read.format(\"com.databricks.spark.csv\") \\\n",
    "            .option(\"header\", \"true\") \\\n",
    "            .option(\"inferSchema\", \"true\") \\\n",
    "            .load('s3://awsglue-datasets/examples/medicare/Medicare_Hospital_Provider.csv')\n",
    "\n",
    "medicare.printSchema()"
   ]
  },
  {
   "cell_type": "markdown",
   "metadata": {},
   "source": [
    "### Let us use PyDeequ to analyze our data. \n",
    "By using the analyzer `DataType` we can see that the column \"Provider Name\" actually contains a string and integer datatype. Specifically, the results show only 2 string values and 163,063 Integral values. "
   ]
  },
  {
   "cell_type": "code",
   "execution_count": 5,
   "metadata": {
    "scrolled": true
   },
   "outputs": [
    {
     "data": {
      "application/vnd.jupyter.widget-view+json": {
       "model_id": "",
       "version_major": 2,
       "version_minor": 0
      },
      "text/plain": [
       "FloatProgress(value=0.0, bar_style='info', description='Progress:', layout=Layout(height='25px', width='50%'),…"
      ]
     },
     "metadata": {},
     "output_type": "display_data"
    },
    {
     "name": "stdout",
     "output_type": "stream",
     "text": [
      "+-------+-------------+--------------------------+---------------------+\n",
      "|entity |instance     |name                      |value                |\n",
      "+-------+-------------+--------------------------+---------------------+\n",
      "|Dataset|*            |Size                      |163065.0             |\n",
      "|Column |Provider Name|Completeness              |1.0                  |\n",
      "|Column |Provider Id  |Histogram.bins            |5.0                  |\n",
      "|Column |Provider Id  |Histogram.abs.Boolean     |0.0                  |\n",
      "|Column |Provider Id  |Histogram.ratio.Boolean   |0.0                  |\n",
      "|Column |Provider Id  |Histogram.abs.Fractional  |0.0                  |\n",
      "|Column |Provider Id  |Histogram.ratio.Fractional|0.0                  |\n",
      "|Column |Provider Id  |Histogram.abs.Integral    |163063.0             |\n",
      "|Column |Provider Id  |Histogram.ratio.Integral  |0.9999877349523196   |\n",
      "|Column |Provider Id  |Histogram.abs.Unknown     |0.0                  |\n",
      "|Column |Provider Id  |Histogram.ratio.Unknown   |0.0                  |\n",
      "|Column |Provider Id  |Histogram.abs.String      |2.0                  |\n",
      "|Column |Provider Id  |Histogram.ratio.String    |1.2265047680372858E-5|\n",
      "+-------+-------------+--------------------------+---------------------+"
     ]
    }
   ],
   "source": [
    "import pydeequ\n",
    "from pydeequ.analyzers import *\n",
    "\n",
    "analysisResult = AnalysisRunner(session) \\\n",
    "                    .onData(medicare) \\\n",
    "                    .addAnalyzer(Size()) \\\n",
    "                    .addAnalyzer(Completeness(\"Provider Name\")) \\\n",
    "                    .addAnalyzer(DataType(\"Provider Id\")) \\\n",
    "                    .run()\n",
    "                    \n",
    "analysisResult_df = AnalyzerContext.successMetricsAsDataFrame(spark, analysisResult)\n",
    "analysisResult_df.show(n=13, truncate=False, vertical=False)"
   ]
  },
  {
   "cell_type": "markdown",
   "metadata": {},
   "source": [
    "### Load the datatable on a Glue Crawler\n",
    "As a comparison between a dataFrame and dynamicFrame let us look at the `medicare` schema in a DynamicFrame. A dynamicFrame is similar to a dataframe, except that each record is self-describing, so no schema is initially required. By converting to a dynamicFrame we can see that the `provider id` column has two datatypes.  "
   ]
  },
  {
   "cell_type": "code",
   "execution_count": 6,
   "metadata": {},
   "outputs": [
    {
     "data": {
      "application/vnd.jupyter.widget-view+json": {
       "model_id": "",
       "version_major": 2,
       "version_minor": 0
      },
      "text/plain": [
       "FloatProgress(value=0.0, bar_style='info', description='Progress:', layout=Layout(height='25px', width='50%'),…"
      ]
     },
     "metadata": {},
     "output_type": "display_data"
    },
    {
     "name": "stdout",
     "output_type": "stream",
     "text": [
      "root\n",
      "|-- drg definition: string\n",
      "|-- provider id: choice\n",
      "|    |-- long\n",
      "|    |-- string\n",
      "|-- provider name: string\n",
      "|-- provider street address: string\n",
      "|-- provider city: string\n",
      "|-- provider state: string\n",
      "|-- provider zip code: long\n",
      "|-- hospital referral region description: string\n",
      "|-- total discharges: long\n",
      "|-- average covered charges: string\n",
      "|-- average total payments: string\n",
      "|-- average medicare payments: string"
     ]
    }
   ],
   "source": [
    "from awsglue.dynamicframe import DynamicFrame\n",
    "\n",
    "medicare_dynamicframe = glueContext.create_dynamic_frame.from_catalog(database = \"medical_billing_demo\", \n",
    "                                                                      table_name = \"medicare_hospital_provider_csv\")\n",
    "medicare_dynamicframe.printSchema()"
   ]
  },
  {
   "cell_type": "markdown",
   "metadata": {},
   "source": [
    "To query the `provider id` column we need to resolve the choice. With DynamicFrames, we can use `resolveChoice` to cast `string` values into a `long` type. "
   ]
  },
  {
   "cell_type": "code",
   "execution_count": 7,
   "metadata": {},
   "outputs": [
    {
     "data": {
      "application/vnd.jupyter.widget-view+json": {
       "model_id": "",
       "version_major": 2,
       "version_minor": 0
      },
      "text/plain": [
       "FloatProgress(value=0.0, bar_style='info', description='Progress:', layout=Layout(height='25px', width='50%'),…"
      ]
     },
     "metadata": {},
     "output_type": "display_data"
    },
    {
     "name": "stdout",
     "output_type": "stream",
     "text": [
      "root\n",
      "|-- drg definition: string\n",
      "|-- provider id: long\n",
      "|-- provider name: string\n",
      "|-- provider street address: string\n",
      "|-- provider city: string\n",
      "|-- provider state: string\n",
      "|-- provider zip code: long\n",
      "|-- hospital referral region description: string\n",
      "|-- total discharges: long\n",
      "|-- average covered charges: string\n",
      "|-- average total payments: string\n",
      "|-- average medicare payments: string"
     ]
    }
   ],
   "source": [
    "medicare_res = medicare_dynamicframe.resolveChoice(specs = [('provider id','cast:long')])\n",
    "medicare_res.printSchema()"
   ]
  },
  {
   "cell_type": "markdown",
   "metadata": {},
   "source": [
    "Where the `string` values cannot be cast AWS Glue replaced with a `Null`. Let us remove the anomalous datasets by using the `where` method and invoking an SQL query. "
   ]
  },
  {
   "cell_type": "code",
   "execution_count": 8,
   "metadata": {},
   "outputs": [
    {
     "data": {
      "application/vnd.jupyter.widget-view+json": {
       "model_id": "",
       "version_major": 2,
       "version_minor": 0
      },
      "text/plain": [
       "FloatProgress(value=0.0, bar_style='info', description='Progress:', layout=Layout(height='25px', width='50%'),…"
      ]
     },
     "metadata": {},
     "output_type": "display_data"
    }
   ],
   "source": [
    "medicare_dataframe = medicare_res.toDF()\n",
    "medicare_dataframe = medicare_dataframe.where(\"`provider id` is NOT NULL\")"
   ]
  },
  {
   "cell_type": "markdown",
   "metadata": {},
   "source": [
    " ## Transform\n",
    "Next, let us make the data table easily accesible, to calculate our metrics. By viewing the average payments columns, we can see a leading dollar sign in the string values. "
   ]
  },
  {
   "cell_type": "code",
   "execution_count": 9,
   "metadata": {},
   "outputs": [
    {
     "data": {
      "application/vnd.jupyter.widget-view+json": {
       "model_id": "",
       "version_major": 2,
       "version_minor": 0
      },
      "text/plain": [
       "FloatProgress(value=0.0, bar_style='info', description='Progress:', layout=Layout(height='25px', width='50%'),…"
      ]
     },
     "metadata": {},
     "output_type": "display_data"
    },
    {
     "name": "stdout",
     "output_type": "stream",
     "text": [
      "+-----------------------+----------------------+-------------------------+\n",
      "|average covered charges|average total payments|average medicare payments|\n",
      "+-----------------------+----------------------+-------------------------+\n",
      "|              $32963.07|              $5777.24|                 $4763.73|\n",
      "|              $15131.85|              $5787.57|                 $4976.71|\n",
      "|              $37560.37|              $5434.95|                 $4453.79|\n",
      "|              $13998.28|              $5417.56|                 $4129.16|\n",
      "|              $31633.27|              $5658.33|                 $4851.44|\n",
      "|              $16920.79|              $6653.80|                 $5374.14|\n",
      "|              $11977.13|              $5834.74|                 $4761.41|\n",
      "|              $35841.09|              $8031.12|                 $5858.50|\n",
      "|              $28523.39|              $6113.38|                 $5228.40|\n",
      "|              $75233.38|              $5541.05|                 $4386.94|\n",
      "|              $67327.92|              $5461.57|                 $4493.57|\n",
      "|              $39607.28|              $5356.28|                 $4408.20|\n",
      "|              $22862.23|              $5374.65|                 $4186.02|\n",
      "|              $31110.85|              $5366.23|                 $4376.23|\n",
      "|              $25411.33|              $5282.93|                 $4383.73|\n",
      "|               $9234.51|              $5676.55|                 $4509.11|\n",
      "|              $15895.85|              $5930.11|                 $3972.85|\n",
      "|              $19721.16|              $6192.54|                 $5179.38|\n",
      "|              $10710.88|              $4968.00|                 $3898.88|\n",
      "|              $51343.75|              $5996.00|                 $4962.45|\n",
      "+-----------------------+----------------------+-------------------------+\n",
      "only showing top 20 rows"
     ]
    }
   ],
   "source": [
    "medicare_dataframe.select(\"average covered charges\", \"average total payments\", \"average medicare payments\").show()"
   ]
  },
  {
   "cell_type": "markdown",
   "metadata": {},
   "source": [
    "Remove the `$` character in the string by using user defined function, `udf`. Additionally rename the needed columns using the `withColumnRenamed` method to fit the python variable naming standard ."
   ]
  },
  {
   "cell_type": "code",
   "execution_count": 10,
   "metadata": {},
   "outputs": [
    {
     "data": {
      "application/vnd.jupyter.widget-view+json": {
       "model_id": "",
       "version_major": 2,
       "version_minor": 0
      },
      "text/plain": [
       "FloatProgress(value=0.0, bar_style='info', description='Progress:', layout=Layout(height='25px', width='50%'),…"
      ]
     },
     "metadata": {},
     "output_type": "display_data"
    }
   ],
   "source": [
    "from pyspark.sql.functions import udf\n",
    "from pyspark.sql.types import StringType\n",
    "\n",
    "chop_f = udf(lambda x: x[1:], StringType())\n",
    "\n",
    "medicare_dataframe = medicare_dataframe.withColumnRenamed(\"provider id\", \"provider_id\") \\\n",
    "                    .withColumnRenamed(\"provider name\", \"provider_name\") \\\n",
    "                    .withColumn(\"avg_covered_charges\", chop_f(medicare_dataframe[\"average covered charges\"]))\\\n",
    "                    .withColumn(\"avg_total_payments\", chop_f(medicare_dataframe[\"average total payments\"]))\\\n",
    "                    .withColumn(\"avg_medicare_payments\", chop_f(medicare_dataframe[\"average medicare payments\"]))\n"
   ]
  },
  {
   "cell_type": "markdown",
   "metadata": {},
   "source": [
    "Using `cast`, change the payment columns from a `string` to a `float`. Use `select` to specify the specific columns needed for this tutorial. "
   ]
  },
  {
   "cell_type": "code",
   "execution_count": 11,
   "metadata": {},
   "outputs": [
    {
     "data": {
      "application/vnd.jupyter.widget-view+json": {
       "model_id": "",
       "version_major": 2,
       "version_minor": 0
      },
      "text/plain": [
       "FloatProgress(value=0.0, bar_style='info', description='Progress:', layout=Layout(height='25px', width='50%'),…"
      ]
     },
     "metadata": {},
     "output_type": "display_data"
    }
   ],
   "source": [
    "medicare_dataframe = medicare_dataframe.select(\"provider_id\", \"provider_name\",\n",
    "                                               medicare_dataframe.avg_covered_charges.cast(\"float\"),\n",
    "                                               medicare_dataframe.avg_total_payments.cast(\"float\"),\n",
    "                                               medicare_dataframe.avg_medicare_payments.cast(\"float\"))\n"
   ]
  },
  {
   "cell_type": "markdown",
   "metadata": {},
   "source": [
    "### Great! We've utilized Glue to clean our data. \n",
    "\n",
    "Now let us analyze our payment columns using PyDeequ.\n"
   ]
  },
  {
   "cell_type": "code",
   "execution_count": 12,
   "metadata": {},
   "outputs": [
    {
     "data": {
      "application/vnd.jupyter.widget-view+json": {
       "model_id": "",
       "version_major": 2,
       "version_minor": 0
      },
      "text/plain": [
       "FloatProgress(value=0.0, bar_style='info', description='Progress:', layout=Layout(height='25px', width='50%'),…"
      ]
     },
     "metadata": {},
     "output_type": "display_data"
    },
    {
     "name": "stdout",
     "output_type": "stream",
     "text": [
      "+-------+--------------------+-------+------------------+\n",
      "| entity|            instance|   name|             value|\n",
      "+-------+--------------------+-------+------------------+\n",
      "| Column|avg_medicare_paym...|Minimum|1148.9000244140625|\n",
      "| Column| avg_covered_charges|   Mean| 36134.25957028615|\n",
      "| Column| avg_covered_charges|Maximum|        929118.875|\n",
      "|Dataset|                   *|   Size|          163063.0|\n",
      "| Column|  avg_total_payments|Maximum|       156158.1875|\n",
      "+-------+--------------------+-------+------------------+"
     ]
    }
   ],
   "source": [
    "from pydeequ.analyzers import *\n",
    "\n",
    "analysisResult = AnalysisRunner(session) \\\n",
    "                    .onData(medicare_dataframe) \\\n",
    "                    .addAnalyzer(Size()) \\\n",
    "                    .addAnalyzer(Mean(\"avg_covered_charges\")) \\\n",
    "                    .addAnalyzer(Minimum(\"avg_medicare_payments\")) \\\n",
    "                    .addAnalyzer(Maximum(\"avg_covered_charges\")) \\\n",
    "                    .addAnalyzer(Maximum(\"avg_total_payments\")) \\\n",
    "                    .run()\n",
    "                    \n",
    "analysisResult_df = AnalyzerContext.successMetricsAsDataFrame(session, analysisResult)\n",
    "analysisResult_df.show()"
   ]
  },
  {
   "cell_type": "markdown",
   "metadata": {},
   "source": [
    "Using constraints on PyDeequ, we can conduct checks to further understand our large dataset. Let us check for \n",
    "constrints in our payment columns. Also, we can make sure that the datatype for `provider_id` is now solely numeric.  "
   ]
  },
  {
   "cell_type": "code",
   "execution_count": 13,
   "metadata": {},
   "outputs": [
    {
     "data": {
      "application/vnd.jupyter.widget-view+json": {
       "model_id": "",
       "version_major": 2,
       "version_minor": 0
      },
      "text/plain": [
       "FloatProgress(value=0.0, bar_style='info', description='Progress:', layout=Layout(height='25px', width='50%'),…"
      ]
     },
     "metadata": {},
     "output_type": "display_data"
    },
    {
     "name": "stdout",
     "output_type": "stream",
     "text": [
      "Verification Run Status: Success\n",
      "+--------+-----------+------------+--------------------+-----------------+------------------+\n",
      "|   check|check_level|check_status|          constraint|constraint_status|constraint_message|\n",
      "+--------+-----------+------------+--------------------+-----------------+------------------+\n",
      "|Medicare|    Warning|     Success|CompletenessConst...|          Success|                  |\n",
      "|Medicare|    Warning|     Success|AnalysisBasedCons...|          Success|                  |\n",
      "|Medicare|    Warning|     Success|ComplianceConstra...|          Success|                  |\n",
      "+--------+-----------+------------+--------------------+-----------------+------------------+"
     ]
    }
   ],
   "source": [
    "from pydeequ.checks import *\n",
    "from pydeequ.verification import *\n",
    "\n",
    "check = Check(session, CheckLevel.Warning, \"Medicare\")\n",
    "\n",
    "checkResult = VerificationSuite(session) \\\n",
    "    .onData(medicare_dataframe) \\\n",
    "    .addCheck(\n",
    "        check.isComplete(\"provider_id\")  \\\n",
    "        .hasDataType(\"provider_id\", ConstrainableDataTypes.Numeric)\n",
    "        .isNonNegative(\"avg_medicare_payments\")) \\\n",
    "    .run()\n",
    "\n",
    "print(f\"Verification Run Status: {checkResult.status}\")\n",
    "checkResult_df = VerificationResult.checkResultsAsDataFrame(session, checkResult)\n",
    "checkResult_df.show()"
   ]
  }
 ],
 "metadata": {
  "kernelspec": {
   "display_name": "Sparkmagic (PySpark)",
   "language": "",
   "name": "pysparkkernel"
  },
  "language_info": {
   "codemirror_mode": {
    "name": "python",
    "version": 3
   },
   "mimetype": "text/x-python",
   "name": "pyspark",
   "pygments_lexer": "python3"
  }
 },
 "nbformat": 4,
 "nbformat_minor": 4
}
